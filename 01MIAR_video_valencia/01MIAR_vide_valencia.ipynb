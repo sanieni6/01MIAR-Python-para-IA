{
 "cells": [
  {
   "cell_type": "markdown",
   "metadata": {},
   "source": [
    "- https://valencia.opendatasoft.com/api/explore/v2.1/catalog/datasets/estacions-contaminacio-atmosferiques-estaciones-contaminacion-atmosfericas/records?limit=20"
   ]
  },
  {
   "cell_type": "code",
   "execution_count": 1,
   "metadata": {},
   "outputs": [],
   "source": [
    "from time import sleep\n",
    "from os import path\n",
    "import requests\n",
    "import pandas as pd"
   ]
  },
  {
   "cell_type": "code",
   "execution_count": 2,
   "metadata": {},
   "outputs": [],
   "source": [
    "def make_request(url, params):\n",
    "    response = requests.get(url, params=params)\n",
    "    if response:\n",
    "        return response.json()\n",
    "    else:\n",
    "        raise Exception(\"error downloading data\")"
   ]
  },
  {
   "cell_type": "code",
   "execution_count": 3,
   "metadata": {},
   "outputs": [],
   "source": [
    "base_url = \"https://valencia.opendatasoft.com/api/explore/v2.1/catalog/datasets/estacions-contaminacio-atmosferiques-estaciones-contaminacion-atmosfericas/records\""
   ]
  },
  {
   "cell_type": "code",
   "execution_count": 4,
   "metadata": {},
   "outputs": [
    {
     "name": "stdout",
     "output_type": "stream",
     "text": [
      "11\n"
     ]
    }
   ],
   "source": [
    "params = {\n",
    "    'limit': 0, \n",
    "}\n",
    "\n",
    "n_stations = make_request(base_url, params)['total_count']\n",
    "\n",
    "print(n_stations) \n"
   ]
  },
  {
   "cell_type": "code",
   "execution_count": 6,
   "metadata": {},
   "outputs": [],
   "source": [
    "first_time = True\n",
    "max_records_per_request = 100\n",
    "\n",
    "current_time = 0\n",
    "sleep_time = 60 * 60\n",
    "total_time = (24 * 60 * 60) + sleep_time\n",
    "\n",
    "#to test the code\n",
    "total_time = 1\n",
    "sleep_time = 1\n",
    "\n",
    "path_csv = ['res', 'valencia_pollution_dataset.csv']\n",
    "path_csv_solved = path.join(*path_csv)"
   ]
  },
  {
   "cell_type": "code",
   "execution_count": 7,
   "metadata": {},
   "outputs": [
    {
     "name": "stdout",
     "output_type": "stream",
     "text": [
      "Current time = 0, records processed = 11\n"
     ]
    }
   ],
   "source": [
    "while current_time < total_time:\n",
    "    offset = 0\n",
    "    pollution_list = []\n",
    "\n",
    "    while offset < n_stations:\n",
    "        params = {\n",
    "            'limit': max_records_per_request,\n",
    "            'offset': offset,\n",
    "        }\n",
    "\n",
    "        sub_list = make_request(base_url, params)['results']\n",
    "        pollution_list += sub_list\n",
    "\n",
    "        offset += max_records_per_request\n",
    "\n",
    "    print(f\"Current time = {current_time}, records processed = {len(pollution_list)}\")\n",
    "\n",
    "    df = pd.DataFrame(pollution_list,\n",
    "                      columns = ['objectid', 'nombre', 'direccion', 'tipozona', 'tipoemisio', 'so2', 'no2', 'o3', 'co', 'pm10', 'pm25', 'fecha_carg', 'calidad_ambiental' ]\n",
    "                      )\n",
    "\n",
    "    # display(df)\n",
    "\n",
    "    df.to_csv(path_csv_solved, sep = ',', header = True if first_time else False, index = False, mode = 'a', na_rep = 'N/A')\n",
    "    first_time = False\n",
    "    sleep(sleep_time)\n",
    "\n",
    "    current_time += sleep_time"
   ]
  },
  {
   "cell_type": "code",
   "execution_count": 8,
   "metadata": {},
   "outputs": [
    {
     "data": {
      "text/html": [
       "<div>\n",
       "<style scoped>\n",
       "    .dataframe tbody tr th:only-of-type {\n",
       "        vertical-align: middle;\n",
       "    }\n",
       "\n",
       "    .dataframe tbody tr th {\n",
       "        vertical-align: top;\n",
       "    }\n",
       "\n",
       "    .dataframe thead th {\n",
       "        text-align: right;\n",
       "    }\n",
       "</style>\n",
       "<table border=\"1\" class=\"dataframe\">\n",
       "  <thead>\n",
       "    <tr style=\"text-align: right;\">\n",
       "      <th></th>\n",
       "      <th>objectid</th>\n",
       "      <th>nombre</th>\n",
       "      <th>direccion</th>\n",
       "      <th>tipozona</th>\n",
       "      <th>tipoemisio</th>\n",
       "      <th>so2</th>\n",
       "      <th>no2</th>\n",
       "      <th>o3</th>\n",
       "      <th>co</th>\n",
       "      <th>pm10</th>\n",
       "      <th>pm25</th>\n",
       "      <th>fecha_carg</th>\n",
       "      <th>calidad_ambiental</th>\n",
       "    </tr>\n",
       "  </thead>\n",
       "  <tbody>\n",
       "    <tr>\n",
       "      <th>0</th>\n",
       "      <td>13</td>\n",
       "      <td>Francia</td>\n",
       "      <td>AVDA.FRANCIA</td>\n",
       "      <td>Urbana</td>\n",
       "      <td>Tráfico</td>\n",
       "      <td>1.0</td>\n",
       "      <td>3.0</td>\n",
       "      <td>83.0</td>\n",
       "      <td>0.0</td>\n",
       "      <td>47.0</td>\n",
       "      <td>31.0</td>\n",
       "      <td>2025-06-15T21:00:00+00:00</td>\n",
       "      <td>NaN</td>\n",
       "    </tr>\n",
       "    <tr>\n",
       "      <th>1</th>\n",
       "      <td>16</td>\n",
       "      <td>Pista de Silla</td>\n",
       "      <td>PISTA DE SILLA</td>\n",
       "      <td>Urbana</td>\n",
       "      <td>Tráfico</td>\n",
       "      <td>0.0</td>\n",
       "      <td>3.0</td>\n",
       "      <td>91.0</td>\n",
       "      <td>0.0</td>\n",
       "      <td>47.0</td>\n",
       "      <td>26.0</td>\n",
       "      <td>2025-06-15T21:00:00+00:00</td>\n",
       "      <td>NaN</td>\n",
       "    </tr>\n",
       "    <tr>\n",
       "      <th>2</th>\n",
       "      <td>17</td>\n",
       "      <td>Universidad Politécnica</td>\n",
       "      <td>POLITÈCNIC</td>\n",
       "      <td>Suburbana</td>\n",
       "      <td>Fondo</td>\n",
       "      <td>5.0</td>\n",
       "      <td>6.0</td>\n",
       "      <td>91.0</td>\n",
       "      <td>NaN</td>\n",
       "      <td>41.0</td>\n",
       "      <td>23.0</td>\n",
       "      <td>2025-06-15T21:00:00+00:00</td>\n",
       "      <td>NaN</td>\n",
       "    </tr>\n",
       "    <tr>\n",
       "      <th>3</th>\n",
       "      <td>20</td>\n",
       "      <td>Cabanyal</td>\n",
       "      <td>CABANYAL</td>\n",
       "      <td>Urbana</td>\n",
       "      <td>Fondo</td>\n",
       "      <td>NaN</td>\n",
       "      <td>4.0</td>\n",
       "      <td>NaN</td>\n",
       "      <td>NaN</td>\n",
       "      <td>42.0</td>\n",
       "      <td>22.0</td>\n",
       "      <td>2025-06-15T21:00:00+00:00</td>\n",
       "      <td>NaN</td>\n",
       "    </tr>\n",
       "    <tr>\n",
       "      <th>4</th>\n",
       "      <td>21</td>\n",
       "      <td>Olivereta</td>\n",
       "      <td>OLIVERETA</td>\n",
       "      <td>Urbana</td>\n",
       "      <td>Tráfico</td>\n",
       "      <td>NaN</td>\n",
       "      <td>12.0</td>\n",
       "      <td>NaN</td>\n",
       "      <td>NaN</td>\n",
       "      <td>34.0</td>\n",
       "      <td>25.0</td>\n",
       "      <td>2025-06-15T21:00:00+00:00</td>\n",
       "      <td>NaN</td>\n",
       "    </tr>\n",
       "  </tbody>\n",
       "</table>\n",
       "</div>"
      ],
      "text/plain": [
       "   objectid                   nombre       direccion   tipozona tipoemisio  \\\n",
       "0        13                  Francia    AVDA.FRANCIA     Urbana    Tráfico   \n",
       "1        16           Pista de Silla  PISTA DE SILLA     Urbana    Tráfico   \n",
       "2        17  Universidad Politécnica      POLITÈCNIC  Suburbana      Fondo   \n",
       "3        20                 Cabanyal        CABANYAL     Urbana      Fondo   \n",
       "4        21                Olivereta       OLIVERETA     Urbana    Tráfico   \n",
       "\n",
       "   so2   no2    o3   co  pm10  pm25                 fecha_carg  \\\n",
       "0  1.0   3.0  83.0  0.0  47.0  31.0  2025-06-15T21:00:00+00:00   \n",
       "1  0.0   3.0  91.0  0.0  47.0  26.0  2025-06-15T21:00:00+00:00   \n",
       "2  5.0   6.0  91.0  NaN  41.0  23.0  2025-06-15T21:00:00+00:00   \n",
       "3  NaN   4.0   NaN  NaN  42.0  22.0  2025-06-15T21:00:00+00:00   \n",
       "4  NaN  12.0   NaN  NaN  34.0  25.0  2025-06-15T21:00:00+00:00   \n",
       "\n",
       "   calidad_ambiental  \n",
       "0                NaN  \n",
       "1                NaN  \n",
       "2                NaN  \n",
       "3                NaN  \n",
       "4                NaN  "
      ]
     },
     "metadata": {},
     "output_type": "display_data"
    }
   ],
   "source": [
    "display(df.head(5))"
   ]
  },
  {
   "cell_type": "code",
   "execution_count": 9,
   "metadata": {},
   "outputs": [
    {
     "name": "stdout",
     "output_type": "stream",
     "text": [
      "<class 'pandas.core.frame.DataFrame'>\n",
      "RangeIndex: 11 entries, 0 to 10\n",
      "Data columns (total 13 columns):\n",
      " #   Column             Non-Null Count  Dtype  \n",
      "---  ------             --------------  -----  \n",
      " 0   objectid           11 non-null     int64  \n",
      " 1   nombre             11 non-null     object \n",
      " 2   direccion          11 non-null     object \n",
      " 3   tipozona           11 non-null     object \n",
      " 4   tipoemisio         11 non-null     object \n",
      " 5   so2                6 non-null      float64\n",
      " 6   no2                11 non-null     float64\n",
      " 7   o3                 6 non-null      float64\n",
      " 8   co                 3 non-null      float64\n",
      " 9   pm10               9 non-null      float64\n",
      " 10  pm25               9 non-null      float64\n",
      " 11  fecha_carg         11 non-null     object \n",
      " 12  calidad_ambiental  0 non-null      float64\n",
      "dtypes: float64(7), int64(1), object(5)\n",
      "memory usage: 1.2+ KB\n"
     ]
    },
    {
     "data": {
      "text/plain": [
       "None"
      ]
     },
     "metadata": {},
     "output_type": "display_data"
    }
   ],
   "source": [
    "display(df.info())"
   ]
  },
  {
   "cell_type": "code",
   "execution_count": null,
   "metadata": {},
   "outputs": [],
   "source": [
    "display(df.describe(include = 'all'))"
   ]
  }
 ],
 "metadata": {
  "kernelspec": {
   "display_name": "viuenv",
   "language": "python",
   "name": "python3"
  },
  "language_info": {
   "codemirror_mode": {
    "name": "ipython",
    "version": 3
   },
   "file_extension": ".py",
   "mimetype": "text/x-python",
   "name": "python",
   "nbconvert_exporter": "python",
   "pygments_lexer": "ipython3",
   "version": "3.11.11"
  }
 },
 "nbformat": 4,
 "nbformat_minor": 2
}
